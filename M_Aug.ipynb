{
  "cells": [
    {
      "cell_type": "markdown",
      "metadata": {
        "id": "ughSNYApZinJ"
      },
      "source": [
        "#**M_aug**"
      ]
    },
    {
      "cell_type": "markdown",
      "source": [
        "**Table of Contents**\n",
        "\n",
        "1. [Overview](#Overview)\n",
        "2. [Setup & Imports](#Setup-&-Imports)\n",
        "3. [Data Loading and Preprocessing](#data-loading-and-preprocessing)\n",
        "4. [Filter for Java Samples](#)\n",
        "5. [Translating the Javacode samples](#Translating-the-Javacode-samples)\n",
        "6. [Tokenization](#Tokenization)\n",
        "7. [Training and Fine-Tuning](#Training-and-Fine-Tuning)\n",
        "8. [Evaluation](#Evaluation)"
      ],
      "metadata": {
        "id": "m1KLwAPaUc8B"
      }
    },
    {
      "cell_type": "markdown",
      "source": [
        "\n",
        "This notebook features the fine-tuning of CodeBERT and the translation of Java code samples to C++. The model is designed to classify code changes into two labels:\n",
        "\n",
        "0 – High quality, no further review required\n",
        "\n",
        "1 – Low quality, requires additional review\n",
        "\n"
      ],
      "metadata": {
        "id": "VY98hsoGUXmi"
      }
    },
    {
      "cell_type": "code",
      "source": [
        "# Install required packages\n",
        "!pip install datasets\n",
        "!pip install -U transformers\n",
        "!pip install --upgrade transformers\n",
        "!pip install datasets --upgrade\n",
        "!pip install openai\n",
        "!pip install --upgrade openai\n",
        "!pip install azure-core\n",
        "!pip install matplotlib pandas\n",
        "!pip install evaluate"
      ],
      "metadata": {
        "id": "b_FomjTeAT_o"
      },
      "execution_count": null,
      "outputs": []
    },
    {
      "cell_type": "markdown",
      "metadata": {
        "id": "ZIwiAlhIvUYD"
      },
      "source": [
        "## **Setup & Imports**"
      ]
    },
    {
      "cell_type": "code",
      "execution_count": null,
      "metadata": {
        "id": "vJ3XCxeNYRUw"
      },
      "outputs": [],
      "source": [
        "# Import libraries\n",
        "import torch\n",
        "from transformers import AutoTokenizer, AutoModelForSequenceClassification, Trainer, TrainingArguments , EarlyStoppingCallback\n",
        "from datasets import load_dataset , concatenate_datasets, DatasetDict , Dataset\n",
        "import pandas as pd\n",
        "import numpy as np\n",
        "from sklearn.metrics import accuracy_score, f1_score, precision_score, recall_score , confusion_matrix , classification_report\n",
        "from sklearn.utils import resample\n",
        "from sklearn.model_selection import train_test_split\n",
        "from torch.nn import CrossEntropyLoss\n",
        "import matplotlib.pyplot as plt\n",
        "import seaborn as sns\n",
        "from collections import Counter\n",
        "import random\n",
        "import warnings\n",
        "from tqdm import tqdm\n",
        "from openai import AzureOpenAI\n",
        "from azure.core.credentials import AzureKeyCredential\n",
        "warnings.filterwarnings('ignore')\n",
        "import evaluate"
      ]
    },
    {
      "cell_type": "markdown",
      "metadata": {
        "id": "JuN1zm57YXRD"
      },
      "source": [
        "## **Data Loading and Preprocessing**\n",
        "\n",
        "- Load the dataset from Hugging Face.\n",
        "- Filter the dataset to retain only Java samples.\n",
        "- Combine the original code (`oldf`) and the corresponding (`patch`) into a unified field, `code_change`, representing the complete code change.\n"
      ]
    },
    {
      "cell_type": "code",
      "execution_count": null,
      "metadata": {
        "id": "Lwifu5ruYZzF"
      },
      "outputs": [],
      "source": [
        "# Load dataset from Hugging Face\n",
        "train_ds = load_dataset(\"fasterinnerlooper/codereviewer\", \"train_quality\")\n"
      ]
    },
    {
      "cell_type": "code",
      "execution_count": null,
      "metadata": {
        "id": "w0sf9wGovjRv"
      },
      "outputs": [],
      "source": [
        "# Remove unnecessary columns not needed for training or evaluation\n",
        "train_ds = train_ds.remove_columns(['msg','id','idx','proj'])\n"
      ]
    },
    {
      "cell_type": "markdown",
      "metadata": {
        "id": "iljtYhc_vm81"
      },
      "source": [
        "**Filter for Java Samples**\n",
        "To build a language-specific dataset for Java, we apply two filtering strategies:\n",
        "\n",
        "- For `y = 0`: Use the existing `lang == 'java'` metadata.\n",
        "- For `y = 1`: Use a heuristic function (`is_java`) that detects Java -like syntax based on keyword patterns."
      ]
    },
    {
      "cell_type": "code",
      "execution_count": null,
      "metadata": {
        "id": "MX1mnZrLYfdu"
      },
      "outputs": [],
      "source": [
        "# Filter the datasets to keep only C++ samples\n",
        "train_ds_java = train_ds.filter(lambda example: example['lang'] == 'java')\n",
        "train_ds_null_lang = train_ds.filter(lambda ex: ex[\"lang\"] is None)"
      ]
    },
    {
      "cell_type": "code",
      "execution_count": null,
      "metadata": {
        "id": "ME5Yr7-CY5Wt"
      },
      "outputs": [],
      "source": [
        "#special Java kewords\n",
        "java_keywords = [ \"System.out.println\",\n",
        "    \"implements\",\n",
        "    \"extends\",\n",
        "    \"package\",\n",
        "    \"import java.\",\n",
        "    \"@Override\",\n",
        "    \"throws\",\n",
        "    \"new Scanner(\",\n",
        "    \"public static void main(String[] args)\"\n",
        "    \"interface\",\n",
        "    \"enum\",\n",
        "    \"@FunctionalInterface\",\n",
        "    \"@SuppressWarnings\",\n",
        "    \"synchronized\",\n",
        "    \"final\",\n",
        "    \"transient\",\n",
        "    \"volatile\",\n",
        "    \"strictfp\",\n",
        "    \"String\",\n",
        "    \"Integer\",\n",
        "    \"Double\",\n",
        "    \"Boolean\",\n",
        "    \"ArrayList\",\n",
        "    \"HashMap\",\n",
        "    \"LinkedList\",\n",
        "    \"HashSet\",\n",
        "    \"TreeMap\",\n",
        "    \"java.util.\",\n",
        "    \"java.io.\",\n",
        "    \"java.lang.\",\n",
        "    \"java.time.\",\n",
        "    \"Scanner\",\n",
        "    \"BufferedReader\",\n",
        "    \"InputStreamReader\",\n",
        "    \"FileWriter\",\n",
        " ]"
      ]
    },
    {
      "cell_type": "code",
      "execution_count": null,
      "metadata": {
        "id": "4sfBeJqqYtVX"
      },
      "outputs": [],
      "source": [
        "def is_java(code: str) -> bool:\n",
        "\n",
        "    \"\"\"\n",
        "    Analyze the source code to determine if it resembles java code.\n",
        "    This function evaluates the provided string by searching for a predefined set\n",
        "    of java keywords.\n",
        "    If at least two such keywords are present, the code is considered\n",
        "    to exhibit characteristics of java.\n",
        "\n",
        "    Parameters\n",
        "    ----------\n",
        "    code : str\n",
        "        The input source code as a single string.\n",
        "\n",
        "    Returns\n",
        "    -------\n",
        "    bool\n",
        "        True if two or more java keywords are found; otherwise, False.\n",
        "    \"\"\"\n",
        "\n",
        "    count = sum(1 for kw in java_keywords if kw in code)\n",
        "    return count >= 5"
      ]
    },
    {
      "cell_type": "code",
      "source": [
        "java_labeled_samplesY1 = train_ds_null_lang.filter(\n",
        "    lambda ex: ex['y'] == 1 and is_java(ex['oldf'])\n",
        ")"
      ],
      "metadata": {
        "id": "cTzCplRD4Ti3"
      },
      "execution_count": null,
      "outputs": []
    },
    {
      "cell_type": "code",
      "execution_count": null,
      "metadata": {
        "colab": {
          "base_uri": "https://localhost:8080/"
        },
        "id": "GZpCxeDOwJ4F",
        "outputId": "6b9c2124-32fa-40d9-ba85-1f2e0e03ee10"
      },
      "outputs": [
        {
          "output_type": "stream",
          "name": "stdout",
          "text": [
            "y=1 20343\n",
            "y=0 18988\n",
            "y=1 2000\n",
            "y=0 2000\n",
            "Counter({0: 2000, 1: 2000})\n"
          ]
        }
      ],
      "source": [
        "\n",
        "# === Java Training Dataset Preparation ===\n",
        "\n",
        "# Extract the 'train' splits from both labeled datasets:\n",
        "# - java_train_0: Java samples with label y=0 (high quality)\n",
        "# - java_train_1: Java samples with label y=1 (low quality)\n",
        "\n",
        "\n",
        "java_train_0 = train_ds_java['train']\n",
        "java_train_1 = java_labeled_samplesY1['train']\n",
        "print(\"y=1\",len(java_train_1))\n",
        "print(\"y=0\",len(java_train_0))\n",
        "\n",
        "\n",
        "# Select up to 600 samples from each label to ensure a balanced dataset.\n",
        "java_train_0_sampled = java_train_0.select(range(min(600, len(java_train_0))))\n",
        "java_train_1_sampled = java_train_1.select(range(min(600, len(java_train_1))))\n",
        "print(\"y=1\",len(java_train_1_sampled))\n",
        "print(\"y=0\",len(java_train_0_sampled))\n",
        "\n",
        "# Combine both subsets into a single dataset\n",
        "combined_java_train = concatenate_datasets([java_train_0_sampled, java_train_1_sampled])\n",
        "\n",
        "# Shuffle the combined dataset to randomize the order of examples.\n",
        "combined_java_train = combined_java_train.shuffle(seed=42)\n",
        "\n",
        "\n",
        "from collections import Counter\n",
        "print(Counter(combined_java_train['y']))"
      ]
    },
    {
      "cell_type": "code",
      "execution_count": null,
      "metadata": {
        "id": "D2G2ZtqTwcFe"
      },
      "outputs": [],
      "source": [
        "train_dataset_java = DatasetDict({\n",
        "    'train': combined_java_train\n",
        "})\n",
        "\n",
        "\n",
        "y1_examples = train_dataset_java['train'].filter(lambda ex: ex['y'] == 1)\n",
        "print(f\"Number of examples with y=1: {len(y1_examples)}\")"
      ]
    },
    {
      "cell_type": "markdown",
      "metadata": {
        "id": "RjZGiesFwrNd"
      },
      "source": [
        "### **Extract Diff with Context**\n",
        "\n",
        "To capture code changes with surrounding context, we extract:\n",
        "\n",
        "- Modified lines from `patch` (additions and deletions)  \n",
        "- `context_lines` before and after each change  \n",
        "\n",
        "Lines are annotated as:\n",
        "\n",
        "- `[ADD]` for added lines  \n",
        "- `[DEL]` for deleted lines  \n",
        "\n",
        "Metadata (e.g., `+++`, `---`, `@@`) is removed to keep the output clean."
      ]
    },
    {
      "cell_type": "code",
      "execution_count": null,
      "metadata": {
        "id": "Dn111V5Dwpg5"
      },
      "outputs": [],
      "source": [
        "def extract_diff_with_context(old_code: str, patch: str, context_lines: int ) -> str:\n",
        "\n",
        "    \"\"\"\n",
        "    Extracts code changes from a unified diff (`patch`) along with surrounding context lines.\n",
        "\n",
        "    Parameters:\n",
        "    ----------\n",
        "    old_code : str\n",
        "        Original code before the changes (not used in processing, but retained for interface consistency).\n",
        "\n",
        "    patch : str\n",
        "        Unified diff string representing the code changes.\n",
        "\n",
        "    context_lines : int, optional (default=5)\n",
        "        Number of lines to include before and after each change for contextual understanding.\n",
        "\n",
        "    Returns:\n",
        "    -------\n",
        "    str\n",
        "        A formatted string containing:\n",
        "        - Context lines around each change\n",
        "        - `[ADD]`-prefixed lines for additions\n",
        "        - `[DEL]`-prefixed lines for deletions\n",
        "        - Excludes non-informative diff metadata (e.g., '+++', '---', '@@')\n",
        "\n",
        "    Example output:\n",
        "        some unchanged line\n",
        "        [DEL] removed line\n",
        "        [ADD] added line\n",
        "        another unchanged line\n",
        "    \"\"\"\n",
        "\n",
        "    patch_lines = patch.splitlines()\n",
        "    context_indices = set()\n",
        "\n",
        "    for i, line in enumerate(patch_lines):\n",
        "        if line.startswith(('+', '-')) and not line.startswith(('+++', '---')):\n",
        "            start = max(0, i - context_lines)\n",
        "            end = min(len(patch_lines), i + context_lines + 1)\n",
        "            context_indices.update(range(start, end))\n",
        "\n",
        "    extracted_lines = []\n",
        "    for i in sorted(context_indices):\n",
        "        line = patch_lines[i]\n",
        "        if line.startswith(('@@', '+++', '---')):\n",
        "            continue\n",
        "        if line.startswith('+') and not line.startswith('+++'):\n",
        "            line = '[ADD] ' + line[1:].strip()\n",
        "        elif line.startswith('-') and not line.startswith('---'):\n",
        "            line = '[DEL] ' + line[1:].strip()\n",
        "        extracted_lines.append(line)\n",
        "\n",
        "    return \"\\n\".join(extracted_lines)"
      ]
    },
    {
      "cell_type": "code",
      "execution_count": null,
      "metadata": {
        "id": "lQfN8tY_wxJz"
      },
      "outputs": [],
      "source": [
        "def apply_extract_diff(example, context_lines=3):\n",
        "    # Extract diff with context for each example row\n",
        "    return {\n",
        "        \"extracted_diff\": extract_diff_with_context(\n",
        "            example[\"oldf\"], example[\"patch\"], context_lines=context_lines\n",
        "        )\n",
        "    }"
      ]
    },
    {
      "cell_type": "code",
      "execution_count": null,
      "metadata": {
        "id": "aVQgvMsZwyp5"
      },
      "outputs": [],
      "source": [
        "def print_diff_examples(dataset, num_examples, context_lines):\n",
        "\n",
        "    \"\"\"\n",
        "    Print a few examples from the dataset showing the original code, the patch,\n",
        "    and the extracted diff with context.\n",
        "\n",
        "    Parameters:\n",
        "    ----------\n",
        "        dataset: Each item should have 'oldf' and 'patch'.\n",
        "        num_examples (int): Number of examples to print.\n",
        "        context_lines (int): Number of context lines to include.\n",
        "    \"\"\"\n",
        "\n",
        "    for i in range(num_examples):\n",
        "        example = dataset[i]\n",
        "        old_code = example.get('oldf', '')\n",
        "        patch = example.get('patch', '')\n",
        "        extracted = extract_diff_with_context(old_code, patch, context_lines=context_lines)\n",
        "\n",
        "        print(f\"Example {i + 1}\")\n",
        "        print(extracted)\n",
        "        print(\"=\" * 60, \"\\n\")"
      ]
    },
    {
      "cell_type": "code",
      "execution_count": null,
      "metadata": {
        "colab": {
          "base_uri": "https://localhost:8080/"
        },
        "id": "srO8dJHdw00q",
        "outputId": "38efb762-8af6-406f-f019-2cfd6022681c"
      },
      "outputs": [
        {
          "output_type": "stream",
          "name": "stdout",
          "text": [
            "Example 1\n",
            "           + \" for defining a delegate runner to be used.\");\n",
            "     }\n",
            " \n",
            "[DEL] if (pluginClassLoaders != null && !pluginClassLoaders.isEmpty()) {\n",
            "[DEL] builders.add(0, new IsolatedClassLoaderExtensionsManagerConfigurationBuilder(pluginClassLoaders));\n",
            "[ADD] if (artifactClassLoaderHolderAdapter != null\n",
            "[ADD] && !artifactClassLoaderHolderAdapter.getPluginsArtifactClassLoaders().isEmpty()) {\n",
            "[ADD] builders.add(0, new IsolatedClassLoaderExtensionsManagerConfigurationBuilder(artifactClassLoaderHolderAdapter\n",
            "[ADD] .getPluginsArtifactClassLoaders()));\n",
            "     }\n",
            "   }\n",
            "[DEL] \n",
            " }\n",
            "============================================================ \n",
            "\n",
            "Example 2\n",
            "  */\n",
            " public class SpillableMapBasedFileSystemView extends HoodieTableFileSystemView {\n",
            " \n",
            "[DEL] private static final Logger LOG = LogManager.getLogger(SpillableMapBasedFileSystemView.class);\n",
            "[ADD] private static final Logger LOG = LoggerFactory.getLogger(SpillableMapBasedFileSystemView.class);\n",
            " \n",
            "   private final long maxMemoryForFileGroupMap;\n",
            "   private final long maxMemoryForPendingCompaction;\n",
            "============================================================ \n",
            "\n",
            "Example 3\n",
            " import java.util.Map;\n",
            " import java.util.SortedSet;\n",
            " \n",
            "[ADD] import org.osgi.util.promise.Promise;\n",
            "[ADD] \n",
            " import aQute.bnd.osgi.Processor;\n",
            " import aQute.bnd.version.Version;\n",
            " \n",
            "============================================================ \n",
            "\n"
          ]
        }
      ],
      "source": [
        "print_diff_examples(train_dataset_java['train'], 3, 3)"
      ]
    },
    {
      "cell_type": "code",
      "execution_count": null,
      "metadata": {
        "id": "7j05qfKmxHnu"
      },
      "outputs": [],
      "source": [
        "train_ds_java = train_dataset_java.map(\n",
        "    apply_extract_diff,\n",
        "    batched=False,\n",
        "    remove_columns=None\n",
        ")"
      ]
    },
    {
      "cell_type": "code",
      "execution_count": null,
      "metadata": {
        "id": "CiJJBB6Ixdvl"
      },
      "outputs": [],
      "source": [
        "def count_words_batch(examples):\n",
        "    return {'word_count': [len(text.split()) for text in examples['extracted_diff']]}"
      ]
    },
    {
      "cell_type": "code",
      "execution_count": null,
      "metadata": {
        "id": "8RgYwNEWxfGw"
      },
      "outputs": [],
      "source": [
        "train_ds_java = train_ds_java.map(count_words_batch, batched=True)\n"
      ]
    },
    {
      "cell_type": "code",
      "execution_count": null,
      "metadata": {
        "id": "RgQlSyN7xoWH"
      },
      "outputs": [],
      "source": [
        "def count_examples_within_word_limit(dataset_split, word_limit=512):\n",
        "    \"\"\"\n",
        "    Count how many examples in a dataset split have word counts within the given limit.\n",
        "\n",
        "    Parameters:\n",
        "    -----------\n",
        "    dataset_split : Dataset\n",
        "        A Hugging Face Dataset split (e.g., train_ds_java['train']).\n",
        "        Assumes it has a 'word_count' field.\n",
        "\n",
        "    word_limit : int, optional (default=512)\n",
        "        Maximum number of words allowed to be counted as 'within limit'.\n",
        "\n",
        "    Prints:\n",
        "    -------\n",
        "    Number and percentage of examples with word counts <= word_limit.\n",
        "    \"\"\"\n",
        "    word_counts = dataset_split['word_count']\n",
        "    total = len(word_counts)\n",
        "    num_within_limit = sum(1 for wc in word_counts if wc <= word_limit)\n",
        "\n",
        "    print(f\"Examples with ≤ {word_limit} words: {num_within_limit} out of {total}\")\n",
        "    print(f\"Percentage: {num_within_limit / total * 100:.2f}%\")\n"
      ]
    },
    {
      "cell_type": "code",
      "execution_count": null,
      "metadata": {
        "colab": {
          "base_uri": "https://localhost:8080/"
        },
        "id": "v4Y5uQj4xqRo",
        "outputId": "55099fa0-47b5-46fd-f74c-53e3bac6e9a1"
      },
      "outputs": [
        {
          "output_type": "stream",
          "name": "stdout",
          "text": [
            "Examples with ≤ 512 words: 3924 out of 4000\n",
            "Percentage: 98.10%\n"
          ]
        }
      ],
      "source": [
        "count_examples_within_word_limit(train_ds_java['train'])\n"
      ]
    },
    {
      "cell_type": "markdown",
      "metadata": {
        "id": "PZ6oiJXtpG1f"
      },
      "source": [
        "Checking that the data set contains both y=0 and y=1 examples and deleting unneccery columns."
      ]
    },
    {
      "cell_type": "code",
      "execution_count": null,
      "metadata": {
        "id": "nWSq4Jx7FTOQ"
      },
      "outputs": [],
      "source": [
        "y1_examples = train_ds_java['train'].filter(lambda ex: ex['y'] == 1)\n",
        "print(f\"Number of examples with y=1: {len(y1_examples)}\")\n",
        "print(train_ds_java['train'].column_names)\n",
        "\n",
        "# Remove unnecessary columns: 'oldf', 'word_count', and 'lang'\n",
        "# These columns are assumed to be irrelevant for the current task or already processed.\n",
        "train_ds_java['train'] = train_ds_java['train'].remove_columns(['oldf', 'word_count', 'lang'])\n",
        "print(train_ds_java['train'].column_names)\n",
        "\n"
      ]
    },
    {
      "cell_type": "markdown",
      "source": [
        "## **Translating the Java code samples**\n",
        "\n",
        "In order the code to work you need to insert an  API key and endpoint."
      ],
      "metadata": {
        "id": "GOfeYEm1V1vO"
      }
    },
    {
      "cell_type": "code",
      "execution_count": null,
      "metadata": {
        "id": "-Ft6sne5W5V3"
      },
      "outputs": [],
      "source": [
        "# Initialize an AzureOpenAI client for accessing the deployed language model\n",
        "client = AzureOpenAI(\n",
        "    api_key=\"YOUR API KEY\",\n",
        "    api_version=\"\",\n",
        "    azure_endpoint=\"\"\n",
        ")"
      ]
    },
    {
      "cell_type": "code",
      "execution_count": null,
      "metadata": {
        "id": "YFrmh_gazK96"
      },
      "outputs": [],
      "source": [
        "def translate_java_to_cpp(java_code: str, client, deployment_name=\"gpt-4.1\"):\n",
        "    \"\"\"\n",
        "    Translates a given Java code diff into idiomatic C++ using an OpenAI-compatible client (e.g., Azure or OpenAI SDK).\n",
        "\n",
        "    The function sends a structured prompt to a language model (e.g., GPT-4.1) instructing it to:\n",
        "    - Translate only the relevant changes in the Java code\n",
        "    - Avoid adding unnecessary boilerplate code such as includes or full class definitions\n",
        "    - Preserve the structure and intent of the original code\n",
        "    - Exclude unchanged lines or auxiliary helper functions unless strictly necessary\n",
        "\n",
        "    Parameters\n",
        "    ----------\n",
        "    java_code : str\n",
        "        The Java code diff (textual format) that should be translated to C++.\n",
        "\n",
        "    client : object\n",
        "        A client instance for accessing the chat completion API (e.g., AzureOpenAI or OpenAI Python SDK).\n",
        "\n",
        "    deployment_name : str, optional (default=\"gpt-4.1\")\n",
        "        The name of the deployed model to use for translation (can refer to a custom deployment or model version).\n",
        "\n",
        "    Returns\n",
        "    -------\n",
        "    str\n",
        "        A string containing the translated C++ code, with unnecessary parts removed and structure preserved.\n",
        "    \"\"\"\n",
        "    prompt = f\"\"\"Translate only the relevant Java code changes to idiomatic C++.\n",
        "Do not add boilerplate code (e.g., includes, full class definitions, or mocks).\n",
        "Do not include unchanged lines or helper functions unless strictly necessary.\n",
        "Preserve structure and intent faithfully.\n",
        "\n",
        "Java diff:\n",
        "{java_code}\n",
        "\n",
        "C++ translation:\"\"\"\n",
        "\n",
        "    response = client.chat.completions.create(\n",
        "        model=deployment_name,\n",
        "        messages=[\n",
        "            {\"role\": \"system\", \"content\": \"You are a helpful assistant that translates Java code to idiomatic C++.\"},\n",
        "            {\"role\": \"user\", \"content\": prompt}\n",
        "        ],\n",
        "        max_tokens=512\n",
        "    )\n",
        "\n",
        "    return response.choices[0].message.content.strip()\n",
        "\n"
      ]
    },
    {
      "cell_type": "code",
      "execution_count": null,
      "metadata": {
        "id": "EwlKqQYLPPHn"
      },
      "outputs": [],
      "source": [
        "samples = train_ds_java['train']\n",
        "translated_rows = []\n",
        "\n",
        "# Iterate over each example with a progress bar\n",
        "for i, ex in enumerate(tqdm(samples, desc=\"Translating\")):\n",
        "    java_diff = ex['extracted_diff']\n",
        "    java_patch = ex['patch']\n",
        "\n",
        "    try:\n",
        "        cpp_diff = translate_java_to_cpp(java_diff, client, deployment_name=\"gpt-4.1\")\n",
        "    except Exception:\n",
        "        cpp_diff = \"ERROR\"\n",
        "\n",
        "    try:\n",
        "        cpp_patch = translate_java_to_cpp(java_patch, client, deployment_name=\"gpt-4.1\")\n",
        "    except Exception:\n",
        "        cpp_patch = \"ERROR\"  # In case of failure, store \"ERROR\"\n",
        "\n",
        "# Append the original and translated fields to the results list\n",
        "    translated_rows.append({\n",
        "        \"extracted_diff\": java_diff,\n",
        "        \"cppex\": cpp_diff,\n",
        "        \"patch\": java_patch,\n",
        "        \"patch_cpp\": cpp_patch,\n",
        "        \"y\": ex[\"y\"]\n",
        "    })\n",
        "\n",
        "\n",
        "df = pd.DataFrame(translated_rows)\n",
        "df.to_csv(\"cpp_translations.csv\", index=False)\n",
        "\n"
      ]
    },
    {
      "cell_type": "code",
      "source": [
        "'''Steps:\n",
        "1. Load the original dataset from 'cpp_translations.csv'.\n",
        "2. Filter out rows where either 'cppex' or 'patch_cpp' is marked as \"ERROR\".\n",
        "3. Drop unused columns: 'extracted_diff' and 'patch'.\n",
        "4. Save the cleaned dataset to 'cpp_translations_final.csv'.\n",
        "5. Print summary statistics about removed rows and file creation.'''\n",
        "\n",
        "df = pd.read_csv(\"cpp_translations.csv\")\n",
        "\n",
        "\n",
        "original_len = len(df)\n",
        "df_filtered = df[(df[\"cppex\"] != \"ERROR\") & (df[\"patch_cpp\"] != \"ERROR\")]\n",
        "filtered_len = len(df_filtered)\n",
        "\n",
        "#Deleting the redundent columns\n",
        "df_filtered = df_filtered.drop(columns=[\"extracted_diff\", \"patch\"])\n",
        "\n",
        "\n",
        "df_filtered.to_csv(\"cpp_translations_final.csv\", index=False)\n",
        "\n",
        "print(f\"file saved cpp_translations_final.csv\")\n",
        "print(f\"deleted {original_len - filtered_len} lines with an Eror in the translation \")"
      ],
      "metadata": {
        "id": "-16SxNsJ8Yuz"
      },
      "execution_count": null,
      "outputs": []
    },
    {
      "cell_type": "markdown",
      "source": [
        "**Class Distribution**"
      ],
      "metadata": {
        "id": "3hizWEwvaS64"
      }
    },
    {
      "cell_type": "code",
      "source": [
        "\n",
        "df = pd.read_csv(\"cpp_translations_final.csv\")\n",
        "\n",
        "value_counts = df[\"y\"].value_counts().sort_index()\n",
        "\n",
        "plt.figure(figsize=(6, 4))\n",
        "plt.bar(value_counts.index.astype(str), value_counts.values, color=[\"blue\", \"green\"])  # שינוי צבעים כאן\n",
        "plt.xlabel(\"y value\")\n",
        "plt.ylabel(\"Count\")\n",
        "plt.title(\"Distribution of y values (0 and 1)\")\n",
        "plt.grid(axis=\"y\", linestyle=\"--\", alpha=0.7)\n",
        "plt.tight_layout()\n",
        "plt.show()"
      ],
      "metadata": {
        "colab": {
          "base_uri": "https://localhost:8080/",
          "height": 407
        },
        "id": "_fFe5Ful-fn4",
        "outputId": "3464801b-98f4-4f5c-aa20-2bb6ddf259e7"
      },
      "execution_count": null,
      "outputs": [
        {
          "output_type": "display_data",
          "data": {
            "text/plain": [
              "<Figure size 600x400 with 1 Axes>"
            ],
            "image/png": "[encoded data removed]"
          },
          "metadata": {}
        }
      ]
    },
    {
      "cell_type": "markdown",
      "source": [
        "\n",
        "\n",
        "**Splitting the data set**"
      ],
      "metadata": {
        "id": "nq0CgdrJOvgH"
      }
    },
    {
      "cell_type": "code",
      "source": [
        "df = pd.read_csv(\"cpp_translations_final.csv\")\n",
        "df = df.rename(columns={\"y\": \"labels\"})\n"
      ],
      "metadata": {
        "id": "9mBRAhWoSLkh"
      },
      "execution_count": null,
      "outputs": []
    },
    {
      "cell_type": "code",
      "source": [
        "dataset = Dataset.from_pandas(df)\n",
        "print(dataset.column_names)\n"
      ],
      "metadata": {
        "colab": {
          "base_uri": "https://localhost:8080/"
        },
        "id": "GKA2CY0aSTfC",
        "outputId": "f4d4c854-b178-4d5e-c22d-41696e30c6bb"
      },
      "execution_count": null,
      "outputs": [
        {
          "output_type": "stream",
          "name": "stdout",
          "text": [
            "['cppex', 'patch_cpp', 'labels']\n"
          ]
        }
      ]
    },
    {
      "cell_type": "code",
      "source": [
        "train_val_test = dataset.train_test_split(test_size=0.2, seed=42)\n",
        "train_valid = train_val_test[\"train\"].train_test_split(test_size=0.18, seed=42)\n",
        "\n",
        "train_ds = train_valid[\"train\"]\n",
        "val_ds = train_valid[\"test\"]\n",
        "test_ds = train_val_test[\"test\"]"
      ],
      "metadata": {
        "id": "Ouk65dI7gmUm"
      },
      "execution_count": null,
      "outputs": []
    },
    {
      "cell_type": "markdown",
      "source": [
        "**Training and Fine-Tuning**"
      ],
      "metadata": {
        "id": "ZouwN6Iqa7q2"
      }
    },
    {
      "cell_type": "code",
      "source": [
        "# Initialize the tokenizer\n",
        "# Load and modify the config with custom dropout\n",
        "tokenizer = AutoTokenizer.from_pretrained(\"microsoft/codebert-base\")\n",
        "model = AutoModelForSequenceClassification.from_pretrained(\"microsoft/codebert-base\", num_labels=2)\n",
        "\n",
        "\n",
        "special_tokens_dict = {'additional_special_tokens': ['[ADD]', '[DEL]']}\n",
        "tokenizer.add_special_tokens(special_tokens_dict)\n",
        "model.resize_token_embeddings(len(tokenizer))"
      ],
      "metadata": {
        "id": "xwpiVSffaR_A"
      },
      "execution_count": null,
      "outputs": []
    },
    {
      "cell_type": "code",
      "source": [
        "def tokenize_function(examples, tokenizer, max_length=512):\n",
        "    combined_code = [f\"{before}\\n{after}\" for before, after in zip(examples[\"cppex\"], examples[\"patch_cpp\"])]\n",
        "    tokenized = tokenizer(\n",
        "        combined_code,\n",
        "        padding='max_length',\n",
        "        truncation=True,\n",
        "        max_length=max_length,\n",
        "        return_tensors=None\n",
        "    )\n",
        "    tokenized[\"labels\"] = examples[\"labels\"]\n",
        "    return tokenized"
      ],
      "metadata": {
        "id": "8BsfOCmcdseW"
      },
      "execution_count": null,
      "outputs": []
    },
    {
      "cell_type": "code",
      "source": [
        "def tokenize_function(examples, tokenizer, max_length=512):\n",
        "    \"\"\"\n",
        "    Tokenizes C++ code diffs from 'cppex' and 'patch_cpp' fields that already include [DEL] and [ADD] markers.\n",
        "\n",
        "    Parameters\n",
        "    ----------\n",
        "    examples : dict\n",
        "        A dictionary containing:\n",
        "        - 'cppex' : list of str\n",
        "            Original C++ code diff (with [DEL] markers).\n",
        "        - 'patch_cpp' : list of str\n",
        "            Modified C++ code diff (with [ADD] markers).\n",
        "        - 'labels' : list of int\n",
        "            Class labels for each example.\n",
        "\n",
        "    tokenizer : PreTrainedTokenizer\n",
        "        A Hugging Face tokenizer including [ADD], [DEL] tokens.\n",
        "\n",
        "    max_length : int, optional (default=512)\n",
        "        Max token sequence length.\n",
        "\n",
        "    Returns\n",
        "    -------\n",
        "    dict\n",
        "        Tokenized input_ids, attention_mask, and labels.\n",
        "    \"\"\"\n",
        "\n",
        "    combined_code = [\n",
        "        f\"{before}\\n{after}\" for before, after in zip(examples[\"cppex\"], examples[\"patch_cpp\"])\n",
        "    ]\n",
        "\n",
        "    tokenized = tokenizer(\n",
        "        combined_code,\n",
        "        padding='max_length',\n",
        "        truncation=True,\n",
        "        max_length=max_length,\n",
        "        return_tensors=None\n",
        "    )\n",
        "\n",
        "    tokenized[\"labels\"] = examples[\"labels\"]\n",
        "    return tokenized"
      ],
      "metadata": {
        "id": "AJTy66GEdu0t"
      },
      "execution_count": null,
      "outputs": []
    },
    {
      "cell_type": "code",
      "source": [
        "\n",
        "train_ds = train_ds.map(tokenize_function, batched=True, batch_size=32, fn_kwargs={\"tokenizer\": tokenizer}, remove_columns=train_ds.column_names)\n",
        "val_ds   = val_ds.map(tokenize_function, batched=True, batch_size=32, fn_kwargs={\"tokenizer\": tokenizer}, remove_columns=val_ds.column_names)\n",
        "test_ds  = test_ds.map(tokenize_function, batched=True,  batch_size=32,fn_kwargs={\"tokenizer\": tokenizer}, remove_columns=test_ds.column_names)"
      ],
      "metadata": {
        "id": "fA0jx_hkeoUe"
      },
      "execution_count": null,
      "outputs": []
    },
    {
      "cell_type": "code",
      "source": [
        "def compute_metrics(eval_pred):\n",
        "    logits, labels = eval_pred\n",
        "    predictions = logits.argmax(axis=-1)\n",
        "    precision, recall, f1, _ = precision_recall_fscore_support(labels, predictions, average='binary')\n",
        "    acc = accuracy_score(labels, predictions)\n",
        "    return {\n",
        "        'accuracy': acc,\n",
        "        'precision': precision,\n",
        "        'recall': recall,\n",
        "        'f1': f1\n",
        "    }\n"
      ],
      "metadata": {
        "id": "Id00A34Wjq0l"
      },
      "execution_count": null,
      "outputs": []
    },
    {
      "cell_type": "code",
      "source": [
        "training_args = TrainingArguments(\n",
        "    output_dir=\"./results\",             # Directory to save checkpoints\n",
        "    overwrite_output_dir=True,          # Overwrite output directory if exists\n",
        "    eval_strategy=\"steps\",              # Evaluate every eval_steps\n",
        "    per_device_train_batch_size=32,     # Batch size for training\n",
        "    per_device_eval_batch_size=32,      # Batch size for evaluation\n",
        "    num_train_epochs=10,                # Train for 10 epochs\n",
        "    logging_steps=10,                   # Log every 100 steps\n",
        "    eval_steps=10,                      # Evaluate every 100 steps\n",
        "    save_steps=100,                     # Save checkpoint every 100 steps\n",
        "    save_total_limit=3,                 # Keep only the 3 latest checkpoints\n",
        "    load_best_model_at_end=True,        # Load best model at end\n",
        "    metric_for_best_model=\"f1\",         # Use F1 to choose best model\n",
        "    greater_is_better=True,             # Higher F1 is better\n",
        "    fp16=True,                          # Use mixed precision\n",
        "    learning_rate=1e-5,                 # learning rate\n",
        "    weight_decay=0.01,                  # Weight decay for regularization\n",
        "    warmup_ratio=0.1,                   # Warmup 10% steps\n",
        "    gradient_accumulation_steps=4,      # Gradient accumulation\n",
        "    dataloader_num_workers=4,           # More workers for data loading\n",
        "    logging_dir=\"./logs\",               # TensorBoard logs\n",
        "    seed=42,                            # Seed for reproducibility\n",
        "    label_smoothing_factor=0.1,         # Helps prevent overconfidence by slightly softening the target labels (e.g., instead of 1.0 use 0.9)\n",
        "    logging_strategy=\"steps\",           # Specifies that logging should happen every fixed number of steps during training\n",
        "    report_to=\"none\"                    # Disables reporting to external logging tools (like TensorBoard, Weights & Biases, etc.)\n",
        "\n",
        ")\n"
      ],
      "metadata": {
        "id": "MlscC_LdteB2"
      },
      "execution_count": null,
      "outputs": []
    },
    {
      "cell_type": "code",
      "source": [
        "def compute_metrics(eval_pred) -> dict:\n",
        "\n",
        "    \"\"\"\n",
        "    Computes evaluation metrics based on model predictions and true labels.\n",
        "\n",
        "    Parameters\n",
        "    ----------\n",
        "    eval_pred : tuple\n",
        "        A tuple containing logits (np.ndarray) and true labels (np.ndarray).\n",
        "\n",
        "    Returns\n",
        "    -------\n",
        "    dict\n",
        "        A dictionary with accuracy, F1 score, precision, and recall (all weighted).\n",
        "    \"\"\"\n",
        "\n",
        "    logits, labels = eval_pred\n",
        "    preds = np.argmax(logits, axis=1)\n",
        "\n",
        "    return {\n",
        "        'accuracy': accuracy_score(labels, preds),\n",
        "        'f1': f1_score(labels, preds, average='weighted'),\n",
        "        'precision': precision_score(labels, preds, average='weighted'),\n",
        "        'recall': recall_score(labels, preds, average='weighted')\n",
        "    }"
      ],
      "metadata": {
        "id": "tYPwfxAeusxq"
      },
      "execution_count": null,
      "outputs": []
    },
    {
      "cell_type": "code",
      "source": [
        "# Set up the trainer to train the model with class weights, evaluation, and early stopping.\n",
        "trainer = Trainer(\n",
        "    model=model,\n",
        "    args=training_args,\n",
        "    train_dataset=train_ds,\n",
        "    eval_dataset=val_ds,\n",
        "    compute_metrics=compute_metrics\n",
        ")"
      ],
      "metadata": {
        "id": "dr-zGDWjvAi1"
      },
      "execution_count": null,
      "outputs": []
    },
    {
      "cell_type": "code",
      "source": [
        "trainer.train()\n"
      ],
      "metadata": {
        "colab": {
          "base_uri": "https://localhost:8080/",
          "height": 329
        },
        "id": "W4Fb7Albv1vS",
        "outputId": "d8124033-34b4-43cc-d58f-536b2700f2f9"
      },
      "execution_count": null,
      "outputs": [
        {
          "output_type": "display_data",
          "data": {
            "text/plain": [
              "<IPython.core.display.HTML object>"
            ],
            "text/html": [
              "\n",
              "    <div>\n",
              "      \n",
              "      <progress value='70' max='70' style='width:300px; height:20px; vertical-align: middle;'></progress>\n",
              "      [70/70 03:02, Epoch 10/10]\n",
              "    </div>\n",
              "    <table border=\"1\" class=\"dataframe\">\n",
              "  <thead>\n",
              " <tr style=\"text-align: left;\">\n",
              "      <th>Step</th>\n",
              "      <th>Training Loss</th>\n",
              "      <th>Validation Loss</th>\n",
              "      <th>Accuracy</th>\n",
              "      <th>F1</th>\n",
              "      <th>Precision</th>\n",
              "      <th>Recall</th>\n",
              "    </tr>\n",
              "  </thead>\n",
              "  <tbody>\n",
              "    <tr>\n",
              "      <td>10</td>\n",
              "      <td>0.648500</td>\n",
              "      <td>0.681571</td>\n",
              "      <td>0.473988</td>\n",
              "      <td>0.317409</td>\n",
              "      <td>0.753913</td>\n",
              "      <td>0.473988</td>\n",
              "    </tr>\n",
              "    <tr>\n",
              "      <td>20</td>\n",
              "      <td>0.622900</td>\n",
              "      <td>0.638941</td>\n",
              "      <td>0.641618</td>\n",
              "      <td>0.635902</td>\n",
              "      <td>0.641473</td>\n",
              "      <td>0.641618</td>\n",
              "    </tr>\n",
              "    <tr>\n",
              "      <td>30</td>\n",
              "      <td>0.539100</td>\n",
              "      <td>0.606684</td>\n",
              "      <td>0.670520</td>\n",
              "      <td>0.652538</td>\n",
              "      <td>0.689943</td>\n",
              "      <td>0.670520</td>\n",
              "    </tr>\n",
              "    <tr>\n",
              "      <td>40</td>\n",
              "      <td>0.576000</td>\n",
              "      <td>0.621395</td>\n",
              "      <td>0.664740</td>\n",
              "      <td>0.664583</td>\n",
              "      <td>0.673196</td>\n",
              "      <td>0.664740</td>\n",
              "    </tr>\n",
              "    <tr>\n",
              "      <td>50</td>\n",
              "      <td>0.514500</td>\n",
              "      <td>0.608312</td>\n",
              "      <td>0.670520</td>\n",
              "      <td>0.670917</td>\n",
              "      <td>0.674946</td>\n",
              "      <td>0.670520</td>\n",
              "    </tr>\n",
              "    <tr>\n",
              "      <td>60</td>\n",
              "      <td>0.551400</td>\n",
              "      <td>0.611995</td>\n",
              "      <td>0.676301</td>\n",
              "      <td>0.675326</td>\n",
              "      <td>0.689225</td>\n",
              "      <td>0.676301</td>\n",
              "    </tr>\n",
              "    <tr>\n",
              "      <td>70</td>\n",
              "      <td>0.510100</td>\n",
              "      <td>0.614999</td>\n",
              "      <td>0.664740</td>\n",
              "      <td>0.662516</td>\n",
              "      <td>0.682370</td>\n",
              "      <td>0.664740</td>\n",
              "    </tr>\n",
              "  </tbody>\n",
              "</table><p>"
            ]
          },
          "metadata": {}
        },
        {
          "output_type": "execute_result",
          "data": {
            "text/plain": [
              "TrainOutput(global_step=70, training_loss=0.5660652569362096, metrics={'train_runtime': 187.278, 'train_samples_per_second': 41.81, 'train_steps_per_second': 0.374, 'total_flos': 2060159563468800.0, 'train_loss': 0.5660652569362096, 'epoch': 10.0})"
            ]
          },
          "metadata": {},
          "execution_count": 18
        }
      ]
    },
    {
      "cell_type": "markdown",
      "source": [
        "**Evaluation**"
      ],
      "metadata": {
        "id": "Ysroev6WbaIx"
      }
    },
    {
      "cell_type": "code",
      "source": [
        "trainer.evaluate()\n"
      ],
      "metadata": {
        "colab": {
          "base_uri": "https://localhost:8080/",
          "height": 193
        },
        "id": "4ZtczOf5v25_",
        "outputId": "7806f047-af36-433d-bfb0-174ea6f72f70"
      },
      "execution_count": null,
      "outputs": [
        {
          "output_type": "display_data",
          "data": {
            "text/plain": [
              "<IPython.core.display.HTML object>"
            ],
            "text/html": [
              "\n",
              "    <div>\n",
              "      \n",
              "      <progress value='6' max='6' style='width:300px; height:20px; vertical-align: middle;'></progress>\n",
              "      [6/6 00:00]\n",
              "    </div>\n",
              "    "
            ]
          },
          "metadata": {}
        },
        {
          "output_type": "execute_result",
          "data": {
            "text/plain": [
              "{'eval_loss': 0.6149994134902954,\n",
              " 'eval_accuracy': 0.6647398843930635,\n",
              " 'eval_f1': 0.6625158994396271,\n",
              " 'eval_precision': 0.6823698623795361,\n",
              " 'eval_recall': 0.6647398843930635,\n",
              " 'eval_runtime': 1.5043,\n",
              " 'eval_samples_per_second': 115.005,\n",
              " 'eval_steps_per_second': 3.989,\n",
              " 'epoch': 10.0}"
            ]
          },
          "metadata": {},
          "execution_count": 19
        }
      ]
    },
    {
      "cell_type": "code",
      "source": [
        "logs = trainer.state.log_history\n",
        "\n",
        "train_steps = [log[\"step\"] for log in logs if \"loss\" in log]\n",
        "train_losses = [log[\"loss\"] for log in logs if \"loss\" in log]\n",
        "\n",
        "val_steps = [log[\"step\"] for log in logs if \"eval_loss\" in log]\n",
        "val_losses = [log[\"eval_loss\"] for log in logs if \"eval_loss\" in log]"
      ],
      "metadata": {
        "id": "F0wBbvKqEVt8"
      },
      "execution_count": null,
      "outputs": []
    },
    {
      "cell_type": "code",
      "source": [
        "logs = trainer.state.log_history\n",
        "print(logs)"
      ],
      "metadata": {
        "id": "QfDaUqUREmjA"
      },
      "execution_count": null,
      "outputs": []
    },
    {
      "cell_type": "code",
      "source": [
        "plt.figure(figsize=(10, 6))\n",
        "\n",
        "# Plot the training loss curve\n",
        "plt.plot(train_steps, train_losses, label=\"Training Loss\", color=\"blue\", linewidth=2)\n",
        "\n",
        "# Plot the validation loss curve\n",
        "plt.plot(val_steps, val_losses, label=\"Validation Loss\", color=\"orange\", linewidth=2)\n",
        "\n",
        "\n",
        "plt.xlabel(\"Training Step\", fontsize=12, fontweight='bold')\n",
        "plt.ylabel(\"Loss\", fontsize=12, fontweight='bold')\n",
        "plt.title(\"Training and Validation Loss\", fontsize=14, fontweight='bold')\n",
        "plt.legend()\n",
        "plt.grid(True)\n",
        "plt.tight_layout()\n",
        "plt.show()"
      ],
      "metadata": {
        "colab": {
          "base_uri": "https://localhost:8080/",
          "height": 607
        },
        "id": "MpC5UM4TyM5_",
        "outputId": "e2ef793b-1469-41fa-fdf2-e1320159aa06"
      },
      "execution_count": null,
      "outputs": [
        {
          "output_type": "display_data",
          "data": {
            "text/plain": [
              "<Figure size 1000x600 with 1 Axes>"
            ],
            "image/png": "[encoded data removed]"
          },
          "metadata": {}
        }
      ]
    },
    {
      "cell_type": "code",
      "source": [
        "# Accuracy\n",
        "acc_steps = [log[\"step\"] for log in logs if \"eval_accuracy\" in log]\n",
        "acc_scores = [log[\"eval_accuracy\"] for log in logs if \"eval_accuracy\" in log]\n",
        "\n",
        "# F1\n",
        "f1_steps = [log[\"step\"] for log in logs if \"eval_f1\" in log]\n",
        "f1_scores = [log[\"eval_f1\"] for log in logs if \"eval_f1\" in log]\n",
        "\n",
        "# Plot\n",
        "plt.figure(figsize=(10, 6))\n",
        "plt.plot(acc_steps, acc_scores, label=\"Accuracy\", color=\"green\")\n",
        "plt.plot(f1_steps, f1_scores, label=\"F1 Score\", color=\"purple\",)\n",
        "\n",
        "plt.xlabel(\"Training Step\",fontsize=12,fontweight='bold')\n",
        "plt.ylabel(\"Score\",fontsize=12,fontweight='bold')\n",
        "plt.title(\"Accuracy and F1 Score\",fontsize=14,fontweight='bold')\n",
        "plt.legend()\n",
        "plt.grid(True)\n",
        "plt.legend()\n",
        "plt.tight_layout()\n",
        "plt.show()"
      ],
      "metadata": {
        "colab": {
          "base_uri": "https://localhost:8080/",
          "height": 607
        },
        "id": "h8TfsU3YMYjP",
        "outputId": "f8d9dd02-2518-41b0-8610-f42a09b801ea"
      },
      "execution_count": null,
      "outputs": [
        {
          "output_type": "display_data",
          "data": {
            "text/plain": [
              "<Figure size 1000x600 with 1 Axes>"
            ],
            "image/png": "[encoded data removed]"
          },
          "metadata": {}
        }
      ]
    },
    {
      "cell_type": "markdown",
      "source": [
        "**Loads and prepares a real-world (non-synthetic) C++ evaluation dataset for model testing.**\n",
        "\n",
        "Steps:\n",
        "1. Load the 'test_quality' and 'validation_quality' splits from the 'fasterinnerlooper/codereviewer' dataset.\n",
        "2. Extract the 'train' portion of each split (these contain the actual labeled examples).\n",
        "3. Remove metadata columns that are not needed for model evaluation: 'msg', 'id', 'idx', 'proj'.\n",
        "4. Filter the datasets to include only examples where the programming language is 'cpp'.\n",
        "5. Concatenate both filtered datasets into a single C++ evaluation dataset.\n",
        "\n",
        "This combined dataset represents real, non-synthetic C++ code examples,\n",
        "and is used to evaluate the model's performance on realistic code changes."
      ],
      "metadata": {
        "id": "o1ZGgpX-Dzj-"
      }
    },
    {
      "cell_type": "code",
      "source": [
        "\n",
        "test_ds = load_dataset(\"fasterinnerlooper/codereviewer\", \"test_quality\")[\"train\"]\n",
        "val_ds = load_dataset(\"fasterinnerlooper/codereviewer\", \"validation_quality\")[\"train\"]\n",
        "\n",
        "val_ds = val_ds.remove_columns(['msg', 'id', 'idx', 'proj'])\n",
        "test_ds = test_ds.remove_columns(['msg', 'id', 'idx', 'proj'])\n",
        "\n",
        "val_ds_cpp = val_ds.filter(lambda example: example['lang'] == 'cpp')\n",
        "test_ds_cpp = test_ds.filter(lambda example: example['lang'] == 'cpp')\n",
        "\n",
        "combined_cpp = concatenate_datasets([val_ds_cpp, test_ds_cpp])\n",
        "\n",
        "\n"
      ],
      "metadata": {
        "id": "dKObIlBmDxVA"
      },
      "execution_count": null,
      "outputs": []
    },
    {
      "cell_type": "code",
      "source": [
        "combined_cpp = combined_cpp.map(\n",
        "    apply_extract_diff,\n",
        "    batched=False,\n",
        "    remove_columns=None\n",
        ")"
      ],
      "metadata": {
        "id": "Ve7n20UTStUU"
      },
      "execution_count": null,
      "outputs": []
    },
    {
      "cell_type": "code",
      "source": [
        "# Function to preprocess the dataset: renames fields to standard names\n",
        "\n",
        "def preprocess_cpp_dataset(dataset):\n",
        "    return dataset.map(lambda example: {\n",
        "        \"cppex\": example[\"oldf\"],\n",
        "        \"patch_cpp\": example[\"patch\"],\n",
        "        \"labels\": example[\"y\"]\n",
        "    })\n",
        "\n",
        "# Apply preprocessing to the combined C++ dataset\n",
        "prepared_ds = preprocess_cpp_dataset(combined_cpp)\n",
        "\n",
        "# Tokenize the preprocessed dataset using the provided tokenizer\n",
        "tokenized_ds = prepared_ds.map(lambda x: tokenize_function(x, tokenizer), batched=True)\n"
      ],
      "metadata": {
        "id": "1G1QTFclRleG"
      },
      "execution_count": null,
      "outputs": []
    },
    {
      "cell_type": "code",
      "source": [
        "# Evaluate the model's performance on the tokenized evaluation dataset\n",
        "results = trainer.evaluate(eval_dataset=tokenized_ds)\n",
        "print(results)"
      ],
      "metadata": {
        "colab": {
          "base_uri": "https://localhost:8080/",
          "height": 74
        },
        "id": "B7w63TW6uCcE",
        "outputId": "36287a8d-5865-44be-dcaf-e5e43c21fac8"
      },
      "execution_count": null,
      "outputs": [
        {
          "output_type": "display_data",
          "data": {
            "text/plain": [
              "<IPython.core.display.HTML object>"
            ],
            "text/html": [
              "\n",
              "    <div>\n",
              "      \n",
              "      <progress value='192' max='192' style='width:300px; height:20px; vertical-align: middle;'></progress>\n",
              "      [192/192 00:36]\n",
              "    </div>\n",
              "    "
            ]
          },
          "metadata": {}
        },
        {
          "output_type": "stream",
          "name": "stdout",
          "text": [
            "{'eval_loss': 0.7098334431648254, 'eval_accuracy': 0.5994777215603069, 'eval_f1': 0.5900772760794469, 'eval_precision': 0.5865602320629285, 'eval_recall': 0.5994777215603069, 'eval_runtime': 37.4486, 'eval_samples_per_second': 163.611, 'eval_steps_per_second': 5.127, 'epoch': 10.0}\n"
          ]
        }
      ]
    },
    {
      "cell_type": "code",
      "source": [
        "predictions = trainer.predict(tokenized_ds)\n",
        "\n",
        "\n",
        "logits = predictions.predictions\n",
        "y_true = predictions.label_ids\n",
        "y_pred = np.argmax(logits, axis=1)\n"
      ],
      "metadata": {
        "colab": {
          "base_uri": "https://localhost:8080/",
          "height": 17
        },
        "id": "SCyLmvlbmZqH",
        "outputId": "92618ad6-fde8-4c22-bbde-426efd89c6ab"
      },
      "execution_count": null,
      "outputs": [
        {
          "output_type": "display_data",
          "data": {
            "text/plain": [
              "<IPython.core.display.HTML object>"
            ],
            "text/html": []
          },
          "metadata": {}
        }
      ]
    },
    {
      "cell_type": "code",
      "source": [
        "cm = confusion_matrix(y_true, y_pred)\n",
        "disp = ConfusionMatrixDisplay(confusion_matrix=cm)\n",
        "\n",
        "fig, ax = plt.subplots(figsize=(5, 5))\n",
        "disp.plot(cmap=\"Greens\", ax=ax)\n",
        "plt.title(\"Confusion Matrix on Evaluation Set\")\n",
        "plt.show()"
      ],
      "metadata": {
        "colab": {
          "base_uri": "https://localhost:8080/",
          "height": 430
        },
        "id": "txHnZbykv9Am",
        "outputId": "317242e9-78d9-4166-95e1-1605bcad271b"
      },
      "execution_count": null,
      "outputs": [
        {
          "output_type": "display_data",
          "data": {
            "text/plain": [
              "<Figure size 500x500 with 2 Axes>"
            ],
            "image/png": "[encoded data removed]"
          },
          "metadata": {}
        }
      ]
    },
    {
      "cell_type": "markdown",
      "metadata": {
        "id": "EOKLuGIBm4Ps"
      },
      "source": []
    }
  ],
  "metadata": {
    "accelerator": "GPU",
    "colab": {
      "gpuType": "T4",
      "provenance": []
    },
    "kernelspec": {
      "display_name": "Python 3",
      "name": "python3"
    },
    "language_info": {
      "name": "python"
    }
  },
  "nbformat": 4,
  "nbformat_minor": 0
}